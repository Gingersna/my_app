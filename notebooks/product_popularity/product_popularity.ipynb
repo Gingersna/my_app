{
 "cells": [
  {
   "cell_type": "code",
   "execution_count": null,
   "metadata": {},
   "outputs": [],
   "source": [
    "%load_ext autoreload\n",
    "%autoreload 2\n",
    "%matplotlib inline\n",
    "%config InlineBackend.figure_format = 'retina'\n",
    "\n",
    "import matplotlib\n",
    "import matplotlib.pyplot\n",
    "matplotlib.style.use('seaborn')\n",
    "matplotlib.rc('axes', grid=True)\n",
    "\n",
    "import lore\n",
    "import my_app.models.product_popularity"
   ]
  },
  {
   "cell_type": "code",
   "execution_count": null,
   "metadata": {},
   "outputs": [],
   "source": [
    "model = my_app.models.product_popularity.Keras()\n",
    "model.fit()"
   ]
  },
  {
   "cell_type": "code",
   "execution_count": null,
   "metadata": {},
   "outputs": [],
   "source": [
    "x = model.pipeline.test_data.copy()\n",
    "x['prediction'] = model.predict(model.pipeline.test_data)\n",
    "x"
   ]
  },
  {
   "cell_type": "code",
   "execution_count": null,
   "metadata": {
    "scrolled": false
   },
   "outputs": [],
   "source": [
    "test = model.pipeline.encoded_test_data.x.copy()\n",
    "test[model.pipeline.output_encoder.name] = model.pipeline.output_encoder.reverse_transform(model.pipeline.encoded_test_data.y)\n",
    "test['color'] = 'gold'\n",
    "\n",
    "predict = model.pipeline.encoded_test_data.x.copy()\n",
    "predict[model.pipeline.output_encoder.name] = model.predict(model.pipeline.test_data)\n",
    "predict['color'] = 'blue'\n",
    "\n",
    "data = test.append(predict)\n",
    "def plot_encoder(name):\n",
    "    stats = data.groupby(['color', name]).agg({model.pipeline.output_encoder.name: ['mean', 'size']}).reset_index()\n",
    "    stats.columns = ['color', name, 'response', 'population']\n",
    "    stats['population'] = (stats['population'] / stats['population'].max() * 1000).clip(lower=3)\n",
    "    stats.plot.scatter(x=name, y='response', s=stats['population'], c=stats['color'], alpha=0.75, figsize=(16, 9))\n",
    "    \n",
    "for encoder in model.pipeline.encoders:    \n",
    "    if isinstance(encoder, lore.encoders.Token):\n",
    "        for i in range(encoder.sequence_length):\n",
    "            plot_encoder(encoder.sequence_name(i))\n",
    "    else:\n",
    "        plot_encoder(encoder.name)\n"
   ]
  },
  {
   "cell_type": "code",
   "execution_count": null,
   "metadata": {},
   "outputs": [],
   "source": []
  }
 ],
 "metadata": {
  "kernelspec": {
   "display_name": "my_app",
   "language": "python",
   "name": "my_app"
  },
  "language_info": {
   "codemirror_mode": {
    "name": "ipython",
    "version": 3
   },
   "file_extension": ".py",
   "mimetype": "text/x-python",
   "name": "python",
   "nbconvert_exporter": "python",
   "pygments_lexer": "ipython3",
   "version": "3.6.4"
  }
 },
 "nbformat": 4,
 "nbformat_minor": 2
}
